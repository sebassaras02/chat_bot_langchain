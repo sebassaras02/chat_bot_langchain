{
 "cells": [
  {
   "cell_type": "code",
   "execution_count": 118,
   "metadata": {},
   "outputs": [],
   "source": [
    "import numpy as np\n",
    "import pandas as pd"
   ]
  },
  {
   "cell_type": "markdown",
   "metadata": {},
   "source": [
    "# Load data"
   ]
  },
  {
   "cell_type": "markdown",
   "metadata": {},
   "source": [
    "Get the text from the txt file"
   ]
  },
  {
   "cell_type": "code",
   "execution_count": 119,
   "metadata": {},
   "outputs": [],
   "source": [
    "data = '../data/historia.txt'\n",
    "\n",
    "# Open the file in read mode\n",
    "with open(file_path, \"r\") as file:\n",
    "    # Read the contents of the file\n",
    "    data = file.read()"
   ]
  },
  {
   "cell_type": "markdown",
   "metadata": {},
   "source": [
    "1. Load data for lang chain"
   ]
  },
  {
   "cell_type": "code",
   "execution_count": 182,
   "metadata": {},
   "outputs": [],
   "source": [
    "from langchain.document_loaders import TextLoader"
   ]
  },
  {
   "cell_type": "code",
   "execution_count": 183,
   "metadata": {},
   "outputs": [],
   "source": [
    "loader = TextLoader(\"../data/historia.txt\")\n",
    "documents = loader.load()"
   ]
  },
  {
   "cell_type": "markdown",
   "metadata": {},
   "source": [
    "2. Split the text"
   ]
  },
  {
   "cell_type": "code",
   "execution_count": 184,
   "metadata": {},
   "outputs": [],
   "source": [
    "from langchain.text_splitter import RecursiveCharacterTextSplitter"
   ]
  },
  {
   "cell_type": "code",
   "execution_count": 185,
   "metadata": {},
   "outputs": [],
   "source": [
    "splitter = RecursiveCharacterTextSplitter(chunk_size=800, chunk_overlap=200, length_function = len)\n",
    "splits = splitter.split_documents(documents)"
   ]
  },
  {
   "cell_type": "markdown",
   "metadata": {},
   "source": [
    "3. Generate the embeddings"
   ]
  },
  {
   "cell_type": "code",
   "execution_count": 186,
   "metadata": {},
   "outputs": [],
   "source": [
    "from langchain.embeddings import SentenceTransformerEmbeddings"
   ]
  },
  {
   "cell_type": "code",
   "execution_count": 187,
   "metadata": {},
   "outputs": [
    {
     "name": "stderr",
     "output_type": "stream",
     "text": [
      "No sentence-transformers model found with name C:\\Users\\LP00035/.cache\\torch\\sentence_transformers\\allenai_longformer-base-4096. Creating a new one with MEAN pooling.\n"
     ]
    }
   ],
   "source": [
    "embedding = SentenceTransformerEmbeddings(model_name=\"allenai/longformer-base-4096\")"
   ]
  },
  {
   "cell_type": "markdown",
   "metadata": {},
   "source": [
    "Verify the lenght of the embedding"
   ]
  },
  {
   "cell_type": "code",
   "execution_count": 188,
   "metadata": {},
   "outputs": [
    {
     "data": {
      "text/plain": [
       "SentenceTransformer(\n",
       "  (0): Transformer({'max_seq_length': 4098, 'do_lower_case': False}) with Transformer model: LongformerModel \n",
       "  (1): Pooling({'word_embedding_dimension': 768, 'pooling_mode_cls_token': False, 'pooling_mode_mean_tokens': True, 'pooling_mode_max_tokens': False, 'pooling_mode_mean_sqrt_len_tokens': False})\n",
       ")"
      ]
     },
     "execution_count": 188,
     "metadata": {},
     "output_type": "execute_result"
    }
   ],
   "source": [
    "embedding.client"
   ]
  },
  {
   "cell_type": "markdown",
   "metadata": {},
   "source": [
    "4. Generate the dense database"
   ]
  },
  {
   "cell_type": "code",
   "execution_count": 189,
   "metadata": {},
   "outputs": [],
   "source": [
    "from langchain.vectorstores import Chroma"
   ]
  },
  {
   "cell_type": "code",
   "execution_count": 191,
   "metadata": {},
   "outputs": [],
   "source": [
    "NAME_VECTOR_STORE = 'embeddings-longformer'\n",
    "vectorstore = Chroma.from_documents(documents=splits, embedding=embedding, persist_directory=NAME_VECTOR_STORE)"
   ]
  },
  {
   "cell_type": "markdown",
   "metadata": {},
   "source": [
    "Make that vector store will be saved in the disk"
   ]
  },
  {
   "cell_type": "code",
   "execution_count": 192,
   "metadata": {},
   "outputs": [],
   "source": [
    "vectorstore.persist()"
   ]
  },
  {
   "cell_type": "markdown",
   "metadata": {},
   "source": [
    "Load the vector store from the disk"
   ]
  },
  {
   "cell_type": "code",
   "execution_count": 193,
   "metadata": {},
   "outputs": [],
   "source": [
    "vectorstore = Chroma(persist_directory=NAME_VECTOR_STORE, embedding_function=embedding)"
   ]
  },
  {
   "cell_type": "markdown",
   "metadata": {},
   "source": [
    "Make a question"
   ]
  },
  {
   "cell_type": "code",
   "execution_count": 194,
   "metadata": {},
   "outputs": [],
   "source": [
    "query = 'Quien es Sebastian Sarasti'\n",
    "docs = vectorstore.similarity_search_with_score(query, topn=5)"
   ]
  },
  {
   "cell_type": "markdown",
   "metadata": {},
   "source": [
    "5. Make a retriever"
   ]
  },
  {
   "cell_type": "code",
   "execution_count": 195,
   "metadata": {},
   "outputs": [],
   "source": [
    "from langchain.chains import RetrievalQAWithSourcesChain"
   ]
  },
  {
   "cell_type": "markdown",
   "metadata": {},
   "source": [
    "Create a retriever from the chroma db"
   ]
  },
  {
   "cell_type": "code",
   "execution_count": 196,
   "metadata": {},
   "outputs": [],
   "source": [
    "retriever_chroma = vectorstore.as_retriever(search_kwargs={'k': 10})"
   ]
  },
  {
   "cell_type": "code",
   "execution_count": 197,
   "metadata": {},
   "outputs": [
    {
     "data": {
      "text/plain": [
       "[Document(page_content='Nikola se convirtió en el \"probador oficial\" de productos de E-SAS. Cada nuevo producto que la empresa consideraba agregar a su catálogo pasaba por un riguroso proceso de prueba, con Nikola como el juez principal. Sebastián estaba decidido a garantizar que cada producto que ofreciera en su tienda en línea cumpliera con los más altos estándares de calidad y comodidad, y nadie mejor que Nikola para ayudar en esa tarea.', metadata={'source': '../data/historia.txt'}),\n",
       " Document(page_content='Sebastián Alejandro Sarasti, el fundador de E-SAS, siempre había sido un apasionado por la tecnología. Desde joven, tenía una afinidad especial por las computadoras y el mundo digital. Su amor por la programación y la inteligencia artificial lo llevaron a un viaje de autodescubrimiento y aprendizaje que finalmente se fusionaría con su amor inquebrantable por los animales.', metadata={'source': '../data/historia.txt'}),\n",
       " Document(page_content='Pero Sebastián también se dio cuenta de que había amantes de las mascotas en toda América del Sur que podrían beneficiarse de la amplia gama de productos de E-SAS. Con determinación, estableció un sistema de envío a nivel regional, calculando cuidadosamente los costos para que fuera asequible para los clientes fuera de Ecuador. Esto permitió que E-SAS se convirtiera en una opción viable para dueños de mascotas en Argentina, Perú, Chile, y más allá.', metadata={'source': '../data/historia.txt'}),\n",
       " Document(page_content='Con su experiencia en programación y desarrollo web, Sebastián se sumergió de lleno en la creación de la plataforma de E-SAS. Desde el diseño del sitio web hasta la implementación de sistemas de pago seguros, él supervisaba cada aspecto del proceso. Pero su visión no se detenía ahí. Sebastián quería que E-SAS fuera una plataforma tecnológicamente avanzada, que pudiera aprovechar la inteligencia artificial para mejorar la experiencia del cliente.', metadata={'source': '../data/historia.txt'}),\n",
       " Document(page_content='Una de las características distintivas de E-SAS era su enfoque en la accesibilidad. Sebastián creía que todos los amantes de las mascotas en América del Sur deberían tener acceso a productos de calidad sin importar dónde vivieran. Para hacer esto posible, E-SAS ofrecía envío gratuito a cualquier parte de Ecuador, asegurando que los clientes locales pudieran disfrutar de la comodidad de comprar en línea sin costos adicionales.', metadata={'source': '../data/historia.txt'}),\n",
       " Document(page_content='La historia de Sebastián Alejandro Sarasti y su compañero canino, Nikola, es un testimonio conmovedor de cómo el amor por una mascota puede inspirar acciones significativas y cambiar vidas. La chispa de inspiración que Nikola proporcionó a Sebastián impulsó el crecimiento y el éxito de E-SAS, y su historia sirve como un recordatorio de la profunda conexión que compartimos con nuestros amigos de cuatro patas.', metadata={'source': '../data/historia.txt'}),\n",
       " Document(page_content='Había una vez un joven emprendedor llamado Sebastián Alejandro Sarasti, originario del hermoso pueblo de Pujilí, en Ecuador. Desde temprana edad, Sebastián había sentido una profunda conexión con los animales, en especial con los perros. Siempre había tenido al menos un fiel amigo peludo en su vida, y esos lazos habían marcado su camino de alguna manera.', metadata={'source': '../data/historia.txt'}),\n",
       " Document(page_content='El compromiso de Sebastián con la tecnología y la IA no solo mejoró la experiencia de compra en E-SAS, sino que también le permitió mantenerse a la vanguardia de la industria de comercio electrónico de mascotas en América del Sur. E-SAS no era solo una tienda en línea; era un escaparate de lo que la tecnología podía lograr cuando se combinaba con una pasión profunda por el bienestar de las mascotas.', metadata={'source': '../data/historia.txt'}),\n",
       " Document(page_content='La frustración de Sebastián por esta situación lo llevó a investigar a fondo y descubrir que muchos otros dueños de Golden Retrievers y otras razas de perros enfrentaban el mismo problema. No solo querían lo mejor para sus animales, sino que también deseaban productos que reflejaran la personalidad y el estilo de sus queridos compañeros peludos.', metadata={'source': '../data/historia.txt'}),\n",
       " Document(page_content='Con su visión en mente, Sebastián se embarcó en un viaje emprendedor. Investigó a fondo el mercado de mascotas en la región, estudió las tendencias globales en accesorios para animales y se conectó con proveedores de todo el mundo que compartían su pasión por la calidad y el cuidado de los animales. No fue un camino fácil, pero su determinación y dedicación lo llevaron a superar obstáculos uno tras otro.', metadata={'source': '../data/historia.txt'})]"
      ]
     },
     "execution_count": 197,
     "metadata": {},
     "output_type": "execute_result"
    }
   ],
   "source": [
    "retriever_chroma.get_relevant_documents(query='Que es E-SAS', topn=10)"
   ]
  },
  {
   "cell_type": "markdown",
   "metadata": {},
   "source": [
    "Get a LLM"
   ]
  },
  {
   "cell_type": "code",
   "execution_count": 198,
   "metadata": {},
   "outputs": [],
   "source": [
    "from langchain.chat_models import ChatOpenAI"
   ]
  },
  {
   "cell_type": "code",
   "execution_count": 199,
   "metadata": {},
   "outputs": [],
   "source": [
    "# load openai key\n",
    "with open('../openaikey.txt', \"r\") as file:\n",
    "    # Read the contents of the file\n",
    "    OPENAI_KEY = file.read()"
   ]
  },
  {
   "cell_type": "code",
   "execution_count": 206,
   "metadata": {},
   "outputs": [],
   "source": [
    "llm = ChatOpenAI(openai_api_key=OPENAI_KEY, model_name='gpt-3.5-turbo', temperature=0, max_tokens=250)"
   ]
  },
  {
   "cell_type": "code",
   "execution_count": 207,
   "metadata": {},
   "outputs": [],
   "source": [
    "qa_chain = RetrievalQAWithSourcesChain.from_chain_type(\n",
    "    llm=llm,\n",
    "    chain_type='stuff',\n",
    "    retriever=retriever_chroma\n",
    ")"
   ]
  },
  {
   "cell_type": "code",
   "execution_count": 208,
   "metadata": {},
   "outputs": [],
   "source": [
    "respuesta = qa_chain('Quien es Nikola')"
   ]
  },
  {
   "cell_type": "code",
   "execution_count": 209,
   "metadata": {},
   "outputs": [
    {
     "data": {
      "text/plain": [
       "{'question': 'Quien es Nikola',\n",
       " 'answer': 'Nikola es el \"probador oficial\" de productos de E-SAS. Nikola ayuda a garantizar que cada producto cumpla con los estándares de calidad y comodidad de la empresa. Nikola es el juez principal en el proceso de prueba de nuevos productos. \\n',\n",
       " 'sources': '../data/historia.txt'}"
      ]
     },
     "execution_count": 209,
     "metadata": {},
     "output_type": "execute_result"
    }
   ],
   "source": [
    "respuesta"
   ]
  },
  {
   "cell_type": "code",
   "execution_count": null,
   "metadata": {},
   "outputs": [],
   "source": []
  }
 ],
 "metadata": {
  "kernelspec": {
   "display_name": "openai",
   "language": "python",
   "name": "python3"
  },
  "language_info": {
   "codemirror_mode": {
    "name": "ipython",
    "version": 3
   },
   "file_extension": ".py",
   "mimetype": "text/x-python",
   "name": "python",
   "nbconvert_exporter": "python",
   "pygments_lexer": "ipython3",
   "version": "3.9.18"
  },
  "orig_nbformat": 4
 },
 "nbformat": 4,
 "nbformat_minor": 2
}
