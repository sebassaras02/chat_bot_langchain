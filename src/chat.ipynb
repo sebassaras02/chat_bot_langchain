{
 "cells": [
  {
   "cell_type": "code",
   "execution_count": 1,
   "metadata": {},
   "outputs": [
    {
     "name": "stderr",
     "output_type": "stream",
     "text": [
      "c:\\Users\\LP00035\\anaconda3\\envs\\openai\\lib\\site-packages\\langchain\\__init__.py:24: UserWarning: Importing OpenAI from langchain root module is no longer supported.\n",
      "  warnings.warn(\n"
     ]
    }
   ],
   "source": [
    "import numpy as np\n",
    "import requests\n",
    "import json\n",
    "from llm_models import run_chat\n",
    "import openai\n",
    "import time\n",
    "from utils import *\n",
    "from embeddings import *"
   ]
  },
  {
   "cell_type": "code",
   "execution_count": 2,
   "metadata": {},
   "outputs": [],
   "source": [
    "#load telegram token\n",
    "with open('../token_telegram.txt', 'r') as file:\n",
    "    TOKEN = file.read().strip()\n",
    "\n",
    "#load the openai key\n",
    "with open('../openaikey.txt', 'r') as file:\n",
    "    OPENAI_KEY = file.read().strip()\n",
    "\n",
    "openai.api_key = OPENAI_KEY"
   ]
  },
  {
   "cell_type": "code",
   "execution_count": 3,
   "metadata": {},
   "outputs": [],
   "source": [
    "# Función para iniciar un chat\n",
    "def start(update, context):\n",
    "    chat_id = update.message.chat_id\n",
    "    if chat_id not in chat_models:\n",
    "        chat_models[chat_id] = initialize_chat_model()  # Implementa esta función según tus necesidades\n",
    "    context.bot.send_message(chat_id=chat_id, text=\"Chat running. Type 'exit' to quit.\")"
   ]
  },
  {
   "cell_type": "code",
   "execution_count": 4,
   "metadata": {},
   "outputs": [],
   "source": [
    "# define a function to get the message\n",
    "def get_updates(offset):\n",
    "    url = f\"https://api.telegram.org/bot{TOKEN}/getUpdates\"\n",
    "    params = {\"timeout\": 100, \"offset\": offset}\n",
    "    response = requests.get(url, params=params)\n",
    "    return response.json()[\"result\"]"
   ]
  },
  {
   "cell_type": "code",
   "execution_count": 5,
   "metadata": {},
   "outputs": [],
   "source": [
    "# define a function to send a message\n",
    "def send_message(chat_id, text):\n",
    "    url = f\"https://api.telegram.org/bot{TOKEN}/sendMessage\"\n",
    "    params = {\"chat_id\": chat_id, \"text\": text}\n",
    "    response = requests.post(url, params=params)\n",
    "    # return response"
   ]
  },
  {
   "cell_type": "code",
   "execution_count": 17,
   "metadata": {},
   "outputs": [],
   "source": [
    "def main_2():\n",
    "    print(\"Starting bot...\")\n",
    "    offset = 0\n",
    "    # load vectorial data base\n",
    "    db = get_vector_db('../data/historia.txt', 'e-sas_company')\n",
    "    # define the retriever\n",
    "    retriever = db.as_retriever(search_kwargs={'k': 5})\n",
    "    # define the model\n",
    "    llm = load_llm_model('../openaikey.txt', 300)\n",
    "    # define a dictionary to save the memory of the models\n",
    "    memory_users = {}\n",
    "    while True:\n",
    "        updates = get_updates(offset)\n",
    "        if updates:\n",
    "            for update in updates:\n",
    "                offset = update[\"update_id\"] + 1\n",
    "                if \"message\" in update and \"text\" in update[\"message\"]:\n",
    "                    chat_id = update[\"message\"][\"chat\"][\"id\"]\n",
    "                    user_message = update[\"message\"][\"text\"]\n",
    "                    if chat_id not in memory_users:\n",
    "                        memory_users[chat_id] = memory_object('../openaikey.txt')\n",
    "                        send_message(chat_id, \"Welcome to the chatbot of E-SAS. You can ask me about the command of the company.\")\n",
    "                    if user_message is not None and user_message == '/start':\n",
    "                        pass\n",
    "                    else:\n",
    "                        response = process_query_with_memory(llm, retriever, user_message, memory_users[chat_id])\n",
    "                        response = response['answer']\n",
    "                        print(f\"Response: {response}\")\n",
    "                        # send the message to the user\n",
    "                        send_message(chat_id, response)\n",
    "                        time.sleep(180)\n",
    "        else:\n",
    "            time.sleep(1)"
   ]
  },
  {
   "cell_type": "code",
   "execution_count": 18,
   "metadata": {},
   "outputs": [
    {
     "name": "stdout",
     "output_type": "stream",
     "text": [
      "Starting bot...\n"
     ]
    },
    {
     "data": {
      "text/html": [
       "<pre style=\"white-space:pre;overflow-x:auto;line-height:normal;font-family:Menlo,'DejaVu Sans Mono',consolas,'Courier New',monospace\"><span style=\"color: #008000; text-decoration-color: #008000; font-weight: bold\">Vector database is being loaded.</span>\n",
       "</pre>\n"
      ],
      "text/plain": [
       "\u001b[1;32mVector database is being loaded.\u001b[0m\n"
      ]
     },
     "metadata": {},
     "output_type": "display_data"
    },
    {
     "name": "stderr",
     "output_type": "stream",
     "text": [
      "No sentence-transformers model found with name C:\\Users\\LP00035/.cache\\torch\\sentence_transformers\\allenai_longformer-base-4096. Creating a new one with MEAN pooling.\n"
     ]
    },
    {
     "data": {
      "text/html": [
       "<pre style=\"white-space:pre;overflow-x:auto;line-height:normal;font-family:Menlo,'DejaVu Sans Mono',consolas,'Courier New',monospace\"><span style=\"color: #800000; text-decoration-color: #800000; font-weight: bold\">Sebastián Sarasti es el fundador de E-SAS, una empresa relacionada con la tecnología y los productos para mascotas.</span>\n",
       "<span style=\"color: #800000; text-decoration-color: #800000; font-weight: bold\">Es un emprendedor apasionado por la tecnología y los animales, especialmente los perros. Su historia con su </span>\n",
       "<span style=\"color: #800000; text-decoration-color: #800000; font-weight: bold\">compañero canino, Nikola, ha sido inspiradora para el crecimiento y éxito de su empresa.</span>\n",
       "</pre>\n"
      ],
      "text/plain": [
       "\u001b[1;31mSebastián Sarasti es el fundador de E-SAS, una empresa relacionada con la tecnología y los productos para mascotas.\u001b[0m\n",
       "\u001b[1;31mEs un emprendedor apasionado por la tecnología y los animales, especialmente los perros. Su historia con su \u001b[0m\n",
       "\u001b[1;31mcompañero canino, Nikola, ha sido inspiradora para el crecimiento y éxito de su empresa.\u001b[0m\n"
      ]
     },
     "metadata": {},
     "output_type": "display_data"
    },
    {
     "name": "stdout",
     "output_type": "stream",
     "text": [
      "Response: Sebastián Sarasti es el fundador de E-SAS, una empresa relacionada con la tecnología y los productos para mascotas. Es un emprendedor apasionado por la tecnología y los animales, especialmente los perros. Su historia con su compañero canino, Nikola, ha sido inspiradora para el crecimiento y éxito de su empresa.\n"
     ]
    },
    {
     "data": {
      "text/html": [
       "<pre style=\"white-space:pre;overflow-x:auto;line-height:normal;font-family:Menlo,'DejaVu Sans Mono',consolas,'Courier New',monospace\"><span style=\"color: #800000; text-decoration-color: #800000; font-weight: bold\">E-SAS fue fundada en el hermoso pueblo de Pujilí, en Ecuador.</span>\n",
       "</pre>\n"
      ],
      "text/plain": [
       "\u001b[1;31mE-SAS fue fundada en el hermoso pueblo de Pujilí, en Ecuador.\u001b[0m\n"
      ]
     },
     "metadata": {},
     "output_type": "display_data"
    },
    {
     "name": "stdout",
     "output_type": "stream",
     "text": [
      "Response: E-SAS fue fundada en el hermoso pueblo de Pujilí, en Ecuador.\n"
     ]
    },
    {
     "data": {
      "text/html": [
       "<pre style=\"white-space:pre;overflow-x:auto;line-height:normal;font-family:Menlo,'DejaVu Sans Mono',consolas,'Courier New',monospace\"><span style=\"color: #800000; text-decoration-color: #800000; font-weight: bold\">Los valores de la empresa E-SAS no se mencionan explícitamente en el texto proporcionado.</span>\n",
       "</pre>\n"
      ],
      "text/plain": [
       "\u001b[1;31mLos valores de la empresa E-SAS no se mencionan explícitamente en el texto proporcionado.\u001b[0m\n"
      ]
     },
     "metadata": {},
     "output_type": "display_data"
    },
    {
     "name": "stdout",
     "output_type": "stream",
     "text": [
      "Response: Los valores de la empresa E-SAS no se mencionan explícitamente en el texto proporcionado.\n"
     ]
    },
    {
     "data": {
      "text/html": [
       "<pre style=\"white-space:pre;overflow-x:auto;line-height:normal;font-family:Menlo,'DejaVu Sans Mono',consolas,'Courier New',monospace\"><span style=\"color: #800000; text-decoration-color: #800000; font-weight: bold\">Nikola es el compañero canino de Sebastián Alejandro Sarasti.</span>\n",
       "</pre>\n"
      ],
      "text/plain": [
       "\u001b[1;31mNikola es el compañero canino de Sebastián Alejandro Sarasti.\u001b[0m\n"
      ]
     },
     "metadata": {},
     "output_type": "display_data"
    },
    {
     "name": "stdout",
     "output_type": "stream",
     "text": [
      "Response: Nikola es el compañero canino de Sebastián Alejandro Sarasti.\n"
     ]
    },
    {
     "data": {
      "text/html": [
       "<pre style=\"white-space:pre;overflow-x:auto;line-height:normal;font-family:Menlo,'DejaVu Sans Mono',consolas,'Courier New',monospace\"><span style=\"color: #800000; text-decoration-color: #800000; font-weight: bold\">The context does not provide specific information about the charges associated with delivery.</span>\n",
       "</pre>\n"
      ],
      "text/plain": [
       "\u001b[1;31mThe context does not provide specific information about the charges associated with delivery.\u001b[0m\n"
      ]
     },
     "metadata": {},
     "output_type": "display_data"
    },
    {
     "name": "stdout",
     "output_type": "stream",
     "text": [
      "Response: The context does not provide specific information about the charges associated with delivery.\n"
     ]
    },
    {
     "data": {
      "text/html": [
       "<pre style=\"white-space:pre;overflow-x:auto;line-height:normal;font-family:Menlo,'DejaVu Sans Mono',consolas,'Courier New',monospace\"><span style=\"color: #800000; text-decoration-color: #800000; font-weight: bold\">The motivation behind E-SAS is a combination of the founder's passion for technology, programming, and artificial </span>\n",
       "<span style=\"color: #800000; text-decoration-color: #800000; font-weight: bold\">intelligence, as well as his unwavering love for animals. Sebastián Alejandro Sarasti, the founder, wanted to </span>\n",
       "<span style=\"color: #800000; text-decoration-color: #800000; font-weight: bold\">ensure that pet lovers in South America had access to high-quality pet products, regardless of where they lived. He</span>\n",
       "<span style=\"color: #800000; text-decoration-color: #800000; font-weight: bold\">believed in the importance of accessibility and convenience, which led him to offer free shipping within Ecuador </span>\n",
       "<span style=\"color: #800000; text-decoration-color: #800000; font-weight: bold\">and establish a regional shipping system to make E-SAS a viable option for pet owners in other countries in South </span>\n",
       "<span style=\"color: #800000; text-decoration-color: #800000; font-weight: bold\">America.</span>\n",
       "</pre>\n"
      ],
      "text/plain": [
       "\u001b[1;31mThe motivation behind E-SAS is a combination of the founder's passion for technology, programming, and artificial \u001b[0m\n",
       "\u001b[1;31mintelligence, as well as his unwavering love for animals. Sebastián Alejandro Sarasti, the founder, wanted to \u001b[0m\n",
       "\u001b[1;31mensure that pet lovers in South America had access to high-quality pet products, regardless of where they lived. He\u001b[0m\n",
       "\u001b[1;31mbelieved in the importance of accessibility and convenience, which led him to offer free shipping within Ecuador \u001b[0m\n",
       "\u001b[1;31mand establish a regional shipping system to make E-SAS a viable option for pet owners in other countries in South \u001b[0m\n",
       "\u001b[1;31mAmerica.\u001b[0m\n"
      ]
     },
     "metadata": {},
     "output_type": "display_data"
    },
    {
     "name": "stdout",
     "output_type": "stream",
     "text": [
      "Response: The motivation behind E-SAS is a combination of the founder's passion for technology, programming, and artificial intelligence, as well as his unwavering love for animals. Sebastián Alejandro Sarasti, the founder, wanted to ensure that pet lovers in South America had access to high-quality pet products, regardless of where they lived. He believed in the importance of accessibility and convenience, which led him to offer free shipping within Ecuador and establish a regional shipping system to make E-SAS a viable option for pet owners in other countries in South America.\n"
     ]
    },
    {
     "data": {
      "text/html": [
       "<pre style=\"white-space:pre;overflow-x:auto;line-height:normal;font-family:Menlo,'DejaVu Sans Mono',consolas,'Courier New',monospace\"><span style=\"color: #800000; text-decoration-color: #800000; font-weight: bold\">No se menciona en el contexto que Sebastián esté intentando emular a Amazon.</span>\n",
       "</pre>\n"
      ],
      "text/plain": [
       "\u001b[1;31mNo se menciona en el contexto que Sebastián esté intentando emular a Amazon.\u001b[0m\n"
      ]
     },
     "metadata": {},
     "output_type": "display_data"
    },
    {
     "name": "stdout",
     "output_type": "stream",
     "text": [
      "Response: No se menciona en el contexto que Sebastián esté intentando emular a Amazon.\n"
     ]
    },
    {
     "ename": "KeyboardInterrupt",
     "evalue": "",
     "output_type": "error",
     "traceback": [
      "\u001b[1;31m---------------------------------------------------------------------------\u001b[0m",
      "\u001b[1;31mKeyboardInterrupt\u001b[0m                         Traceback (most recent call last)",
      "\u001b[1;32mc:\\Users\\LP00035\\Documents\\CURSOS\\Lang chain\\src\\chat.ipynb Cell 9\u001b[0m line \u001b[0;36m1\n\u001b[1;32m----> <a href='vscode-notebook-cell:/c%3A/Users/LP00035/Documents/CURSOS/Lang%20chain/src/chat.ipynb#X11sZmlsZQ%3D%3D?line=0'>1</a>\u001b[0m main_2()\n",
      "\u001b[1;32mc:\\Users\\LP00035\\Documents\\CURSOS\\Lang chain\\src\\chat.ipynb Cell 9\u001b[0m line \u001b[0;36m3\n\u001b[0;32m     <a href='vscode-notebook-cell:/c%3A/Users/LP00035/Documents/CURSOS/Lang%20chain/src/chat.ipynb#X11sZmlsZQ%3D%3D?line=28'>29</a>\u001b[0m                 \u001b[39m# send the message to the user\u001b[39;00m\n\u001b[0;32m     <a href='vscode-notebook-cell:/c%3A/Users/LP00035/Documents/CURSOS/Lang%20chain/src/chat.ipynb#X11sZmlsZQ%3D%3D?line=29'>30</a>\u001b[0m                 send_message(chat_id, response)\n\u001b[1;32m---> <a href='vscode-notebook-cell:/c%3A/Users/LP00035/Documents/CURSOS/Lang%20chain/src/chat.ipynb#X11sZmlsZQ%3D%3D?line=30'>31</a>\u001b[0m                 time\u001b[39m.\u001b[39;49msleep(\u001b[39m180\u001b[39;49m)\n\u001b[0;32m     <a href='vscode-notebook-cell:/c%3A/Users/LP00035/Documents/CURSOS/Lang%20chain/src/chat.ipynb#X11sZmlsZQ%3D%3D?line=31'>32</a>\u001b[0m \u001b[39melse\u001b[39;00m:\n\u001b[0;32m     <a href='vscode-notebook-cell:/c%3A/Users/LP00035/Documents/CURSOS/Lang%20chain/src/chat.ipynb#X11sZmlsZQ%3D%3D?line=32'>33</a>\u001b[0m     time\u001b[39m.\u001b[39msleep(\u001b[39m1\u001b[39m)\n",
      "\u001b[1;31mKeyboardInterrupt\u001b[0m: "
     ]
    }
   ],
   "source": [
    "main_2()"
   ]
  }
 ],
 "metadata": {
  "kernelspec": {
   "display_name": "openai",
   "language": "python",
   "name": "python3"
  },
  "language_info": {
   "codemirror_mode": {
    "name": "ipython",
    "version": 3
   },
   "file_extension": ".py",
   "mimetype": "text/x-python",
   "name": "python",
   "nbconvert_exporter": "python",
   "pygments_lexer": "ipython3",
   "version": "3.9.18"
  },
  "orig_nbformat": 4
 },
 "nbformat": 4,
 "nbformat_minor": 2
}
